{
  "cells": [
    {
      "cell_type": "markdown",
      "metadata": {
        "id": "rYaP-3SI6KOQ"
      },
      "source": [
        "## Importing Packages"
      ]
    },
    {
      "cell_type": "code",
      "execution_count": null,
      "metadata": {
        "id": "F_myp2yG6KOR"
      },
      "outputs": [],
      "source": [
        "#Data management\n",
        "import pandas as pd\n",
        "import numpy as np\n",
        "np.random.seed(0)\n",
        "#from pandas_profiling import ProfileReport\n",
        "\n",
        "#TextBlob Features\n",
        "from textblob import TextBlob\n",
        "\n",
        "#Plotting\n",
        "import matplotlib.pyplot as plt\n",
        "\n",
        "#SciKit-Learn\n",
        "from sklearn.model_selection import train_test_split\n",
        "from sklearn.metrics import accuracy_score\n",
        "from sklearn.metrics import confusion_matrix, ConfusionMatrixDisplay\n",
        "\n",
        "#nltk\n",
        "import nltk\n",
        "from nltk.corpus import stopwords\n",
        "#nltk.download('stopwords')\n",
        "from nltk.tokenize import word_tokenize\n",
        "from nltk.stem import WordNetLemmatizer\n",
        "#nltk.download('wordnet')\n",
        "\n",
        "#Tensorflow / Keras\n",
        "import tensorflow as tf\n",
        "from tensorflow.keras.preprocessing.text import Tokenizer\n",
        "from tensorflow.keras.preprocessing.sequence import pad_sequences\n",
        "\n",
        "#Test\n",
        "from collections import Counter"
      ]
    },
    {
      "cell_type": "markdown",
      "metadata": {
        "id": "jIdY4HQN6KOS"
      },
      "source": [
        "## Importing Data"
      ]
    },
    {
      "cell_type": "code",
      "execution_count": null,
      "metadata": {
        "id": "UBtY22Ej6KOS"
      },
      "outputs": [],
      "source": [
        "#Training Data\n",
        "path = \"/content/facebook_training.csv\"\n",
        "train_df = pd.read_csv(path, names=[\"Faceboob_ID\", \"Entity\", \"Sentiment\", \"Review_Content\"])\n",
        "\n",
        "#Test Data (Not to be used until the full model has been trained)\n",
        "test_path = \"/content/facebook_validation.csv\"\n",
        "test_df = pd.read_csv(test_path, names=[\"Facebook_ID\", \"Entity\", \"Sentiment\", \"Review_Content\"])"
      ]
    },
    {
      "cell_type": "code",
      "source": [
        "from google.colab import drive\n",
        "drive.mount('/content/drive')"
      ],
      "metadata": {
        "colab": {
          "base_uri": "https://localhost:8080/"
        },
        "id": "fuOFEaVP8VQ_",
        "outputId": "074aeab8-6d94-4899-957b-8d52e998208d"
      },
      "execution_count": null,
      "outputs": [
        {
          "output_type": "stream",
          "name": "stdout",
          "text": [
            "Mounted at /content/drive\n"
          ]
        }
      ]
    },
    {
      "cell_type": "markdown",
      "metadata": {
        "id": "zln4T4b56KOS"
      },
      "source": [
        "## Dropping NA Values"
      ]
    },
    {
      "cell_type": "code",
      "execution_count": null,
      "metadata": {
        "id": "OER69hkJ6KOS"
      },
      "outputs": [],
      "source": [
        "train_df = train_df.dropna()\n",
        "test_df = test_df.dropna()"
      ]
    },
    {
      "cell_type": "code",
      "execution_count": null,
      "metadata": {
        "colab": {
          "base_uri": "https://localhost:8080/"
        },
        "id": "TkjX3K-O6KOS",
        "outputId": "3a2e93ae-b1eb-43a3-fe9c-057c70e8ebd8"
      },
      "outputs": [
        {
          "output_type": "execute_result",
          "data": {
            "text/plain": [
              "(73996, 4)"
            ]
          },
          "metadata": {},
          "execution_count": 7
        }
      ],
      "source": [
        "train_df.shape"
      ]
    },
    {
      "cell_type": "markdown",
      "metadata": {
        "id": "F_an4ViR6KOT"
      },
      "source": [
        "## Subsetting Data"
      ]
    },
    {
      "cell_type": "code",
      "execution_count": null,
      "metadata": {
        "id": "RL16A9uQ6KOT"
      },
      "outputs": [],
      "source": [
        "df = train_df.sample(frac=0.1)\n",
        "df.reset_index(drop=True, inplace=True)"
      ]
    },
    {
      "cell_type": "markdown",
      "metadata": {
        "id": "Ql2m5xc96KOT"
      },
      "source": [
        "## Data Exploration"
      ]
    },
    {
      "cell_type": "code",
      "execution_count": null,
      "metadata": {
        "colab": {
          "base_uri": "https://localhost:8080/"
        },
        "id": "lAYa9gVH6KOT",
        "outputId": "7fa11db8-3c34-455a-e87d-fbd981809315"
      },
      "outputs": [
        {
          "output_type": "stream",
          "name": "stdout",
          "text": [
            "<class 'pandas.core.frame.DataFrame'>\n",
            "RangeIndex: 7400 entries, 0 to 7399\n",
            "Data columns (total 4 columns):\n",
            " #   Column          Non-Null Count  Dtype \n",
            "---  ------          --------------  ----- \n",
            " 0   Faceboob_ID     7400 non-null   int64 \n",
            " 1   Entity          7400 non-null   object\n",
            " 2   Sentiment       7400 non-null   object\n",
            " 3   Review_Content  7400 non-null   object\n",
            "dtypes: int64(1), object(3)\n",
            "memory usage: 231.4+ KB\n"
          ]
        }
      ],
      "source": [
        "#See overall information about the data frame\n",
        "df.info()"
      ]
    },
    {
      "cell_type": "code",
      "execution_count": null,
      "metadata": {
        "colab": {
          "base_uri": "https://localhost:8080/",
          "height": 206
        },
        "id": "PaW7XeSE6KOT",
        "outputId": "541b7c7a-b6c3-4617-e353-48a9207afdc3"
      },
      "outputs": [
        {
          "output_type": "execute_result",
          "data": {
            "text/plain": [
              "   Faceboob_ID                Entity Sentiment  \\\n",
              "0         2535           Borderlands  Negative   \n",
              "1        11073  TomClancysGhostRecon  Negative   \n",
              "2         3024                 Dota2   Neutral   \n",
              "3         6719              Fortnite  Negative   \n",
              "4         1533           Battlefield  Negative   \n",
              "\n",
              "                                      Review_Content  \n",
              "0  @ Borderlands. Can we get a big fix please? I'...  \n",
              "1  @GhostRecon You call 1.1.0 an update. You're h...  \n",
              "2  I'm excited to watch the EU's closed qualifyin...  \n",
              "3         anyways but my fortnite here,, im annoyed.  \n",
              "4  Collateral with the revolver is so satisfying....  "
            ],
            "text/html": [
              "\n",
              "  <div id=\"df-a9bf28be-4e0c-462c-906a-b8f7dd88ad94\" class=\"colab-df-container\">\n",
              "    <div>\n",
              "<style scoped>\n",
              "    .dataframe tbody tr th:only-of-type {\n",
              "        vertical-align: middle;\n",
              "    }\n",
              "\n",
              "    .dataframe tbody tr th {\n",
              "        vertical-align: top;\n",
              "    }\n",
              "\n",
              "    .dataframe thead th {\n",
              "        text-align: right;\n",
              "    }\n",
              "</style>\n",
              "<table border=\"1\" class=\"dataframe\">\n",
              "  <thead>\n",
              "    <tr style=\"text-align: right;\">\n",
              "      <th></th>\n",
              "      <th>Faceboob_ID</th>\n",
              "      <th>Entity</th>\n",
              "      <th>Sentiment</th>\n",
              "      <th>Review_Content</th>\n",
              "    </tr>\n",
              "  </thead>\n",
              "  <tbody>\n",
              "    <tr>\n",
              "      <th>0</th>\n",
              "      <td>2535</td>\n",
              "      <td>Borderlands</td>\n",
              "      <td>Negative</td>\n",
              "      <td>@ Borderlands. Can we get a big fix please? I'...</td>\n",
              "    </tr>\n",
              "    <tr>\n",
              "      <th>1</th>\n",
              "      <td>11073</td>\n",
              "      <td>TomClancysGhostRecon</td>\n",
              "      <td>Negative</td>\n",
              "      <td>@GhostRecon You call 1.1.0 an update. You're h...</td>\n",
              "    </tr>\n",
              "    <tr>\n",
              "      <th>2</th>\n",
              "      <td>3024</td>\n",
              "      <td>Dota2</td>\n",
              "      <td>Neutral</td>\n",
              "      <td>I'm excited to watch the EU's closed qualifyin...</td>\n",
              "    </tr>\n",
              "    <tr>\n",
              "      <th>3</th>\n",
              "      <td>6719</td>\n",
              "      <td>Fortnite</td>\n",
              "      <td>Negative</td>\n",
              "      <td>anyways but my fortnite here,, im annoyed.</td>\n",
              "    </tr>\n",
              "    <tr>\n",
              "      <th>4</th>\n",
              "      <td>1533</td>\n",
              "      <td>Battlefield</td>\n",
              "      <td>Negative</td>\n",
              "      <td>Collateral with the revolver is so satisfying....</td>\n",
              "    </tr>\n",
              "  </tbody>\n",
              "</table>\n",
              "</div>\n",
              "    <div class=\"colab-df-buttons\">\n",
              "\n",
              "  <div class=\"colab-df-container\">\n",
              "    <button class=\"colab-df-convert\" onclick=\"convertToInteractive('df-a9bf28be-4e0c-462c-906a-b8f7dd88ad94')\"\n",
              "            title=\"Convert this dataframe to an interactive table.\"\n",
              "            style=\"display:none;\">\n",
              "\n",
              "  <svg xmlns=\"http://www.w3.org/2000/svg\" height=\"24px\" viewBox=\"0 -960 960 960\">\n",
              "    <path d=\"M120-120v-720h720v720H120Zm60-500h600v-160H180v160Zm220 220h160v-160H400v160Zm0 220h160v-160H400v160ZM180-400h160v-160H180v160Zm440 0h160v-160H620v160ZM180-180h160v-160H180v160Zm440 0h160v-160H620v160Z\"/>\n",
              "  </svg>\n",
              "    </button>\n",
              "\n",
              "  <style>\n",
              "    .colab-df-container {\n",
              "      display:flex;\n",
              "      gap: 12px;\n",
              "    }\n",
              "\n",
              "    .colab-df-convert {\n",
              "      background-color: #E8F0FE;\n",
              "      border: none;\n",
              "      border-radius: 50%;\n",
              "      cursor: pointer;\n",
              "      display: none;\n",
              "      fill: #1967D2;\n",
              "      height: 32px;\n",
              "      padding: 0 0 0 0;\n",
              "      width: 32px;\n",
              "    }\n",
              "\n",
              "    .colab-df-convert:hover {\n",
              "      background-color: #E2EBFA;\n",
              "      box-shadow: 0px 1px 2px rgba(60, 64, 67, 0.3), 0px 1px 3px 1px rgba(60, 64, 67, 0.15);\n",
              "      fill: #174EA6;\n",
              "    }\n",
              "\n",
              "    .colab-df-buttons div {\n",
              "      margin-bottom: 4px;\n",
              "    }\n",
              "\n",
              "    [theme=dark] .colab-df-convert {\n",
              "      background-color: #3B4455;\n",
              "      fill: #D2E3FC;\n",
              "    }\n",
              "\n",
              "    [theme=dark] .colab-df-convert:hover {\n",
              "      background-color: #434B5C;\n",
              "      box-shadow: 0px 1px 3px 1px rgba(0, 0, 0, 0.15);\n",
              "      filter: drop-shadow(0px 1px 2px rgba(0, 0, 0, 0.3));\n",
              "      fill: #FFFFFF;\n",
              "    }\n",
              "  </style>\n",
              "\n",
              "    <script>\n",
              "      const buttonEl =\n",
              "        document.querySelector('#df-a9bf28be-4e0c-462c-906a-b8f7dd88ad94 button.colab-df-convert');\n",
              "      buttonEl.style.display =\n",
              "        google.colab.kernel.accessAllowed ? 'block' : 'none';\n",
              "\n",
              "      async function convertToInteractive(key) {\n",
              "        const element = document.querySelector('#df-a9bf28be-4e0c-462c-906a-b8f7dd88ad94');\n",
              "        const dataTable =\n",
              "          await google.colab.kernel.invokeFunction('convertToInteractive',\n",
              "                                                    [key], {});\n",
              "        if (!dataTable) return;\n",
              "\n",
              "        const docLinkHtml = 'Like what you see? Visit the ' +\n",
              "          '<a target=\"_blank\" href=https://colab.research.google.com/notebooks/data_table.ipynb>data table notebook</a>'\n",
              "          + ' to learn more about interactive tables.';\n",
              "        element.innerHTML = '';\n",
              "        dataTable['output_type'] = 'display_data';\n",
              "        await google.colab.output.renderOutput(dataTable, element);\n",
              "        const docLink = document.createElement('div');\n",
              "        docLink.innerHTML = docLinkHtml;\n",
              "        element.appendChild(docLink);\n",
              "      }\n",
              "    </script>\n",
              "  </div>\n",
              "\n",
              "\n",
              "<div id=\"df-d626fa9b-b59e-421e-b239-f76bcfa47d25\">\n",
              "  <button class=\"colab-df-quickchart\" onclick=\"quickchart('df-d626fa9b-b59e-421e-b239-f76bcfa47d25')\"\n",
              "            title=\"Suggest charts\"\n",
              "            style=\"display:none;\">\n",
              "\n",
              "<svg xmlns=\"http://www.w3.org/2000/svg\" height=\"24px\"viewBox=\"0 0 24 24\"\n",
              "     width=\"24px\">\n",
              "    <g>\n",
              "        <path d=\"M19 3H5c-1.1 0-2 .9-2 2v14c0 1.1.9 2 2 2h14c1.1 0 2-.9 2-2V5c0-1.1-.9-2-2-2zM9 17H7v-7h2v7zm4 0h-2V7h2v10zm4 0h-2v-4h2v4z\"/>\n",
              "    </g>\n",
              "</svg>\n",
              "  </button>\n",
              "\n",
              "<style>\n",
              "  .colab-df-quickchart {\n",
              "      --bg-color: #E8F0FE;\n",
              "      --fill-color: #1967D2;\n",
              "      --hover-bg-color: #E2EBFA;\n",
              "      --hover-fill-color: #174EA6;\n",
              "      --disabled-fill-color: #AAA;\n",
              "      --disabled-bg-color: #DDD;\n",
              "  }\n",
              "\n",
              "  [theme=dark] .colab-df-quickchart {\n",
              "      --bg-color: #3B4455;\n",
              "      --fill-color: #D2E3FC;\n",
              "      --hover-bg-color: #434B5C;\n",
              "      --hover-fill-color: #FFFFFF;\n",
              "      --disabled-bg-color: #3B4455;\n",
              "      --disabled-fill-color: #666;\n",
              "  }\n",
              "\n",
              "  .colab-df-quickchart {\n",
              "    background-color: var(--bg-color);\n",
              "    border: none;\n",
              "    border-radius: 50%;\n",
              "    cursor: pointer;\n",
              "    display: none;\n",
              "    fill: var(--fill-color);\n",
              "    height: 32px;\n",
              "    padding: 0;\n",
              "    width: 32px;\n",
              "  }\n",
              "\n",
              "  .colab-df-quickchart:hover {\n",
              "    background-color: var(--hover-bg-color);\n",
              "    box-shadow: 0 1px 2px rgba(60, 64, 67, 0.3), 0 1px 3px 1px rgba(60, 64, 67, 0.15);\n",
              "    fill: var(--button-hover-fill-color);\n",
              "  }\n",
              "\n",
              "  .colab-df-quickchart-complete:disabled,\n",
              "  .colab-df-quickchart-complete:disabled:hover {\n",
              "    background-color: var(--disabled-bg-color);\n",
              "    fill: var(--disabled-fill-color);\n",
              "    box-shadow: none;\n",
              "  }\n",
              "\n",
              "  .colab-df-spinner {\n",
              "    border: 2px solid var(--fill-color);\n",
              "    border-color: transparent;\n",
              "    border-bottom-color: var(--fill-color);\n",
              "    animation:\n",
              "      spin 1s steps(1) infinite;\n",
              "  }\n",
              "\n",
              "  @keyframes spin {\n",
              "    0% {\n",
              "      border-color: transparent;\n",
              "      border-bottom-color: var(--fill-color);\n",
              "      border-left-color: var(--fill-color);\n",
              "    }\n",
              "    20% {\n",
              "      border-color: transparent;\n",
              "      border-left-color: var(--fill-color);\n",
              "      border-top-color: var(--fill-color);\n",
              "    }\n",
              "    30% {\n",
              "      border-color: transparent;\n",
              "      border-left-color: var(--fill-color);\n",
              "      border-top-color: var(--fill-color);\n",
              "      border-right-color: var(--fill-color);\n",
              "    }\n",
              "    40% {\n",
              "      border-color: transparent;\n",
              "      border-right-color: var(--fill-color);\n",
              "      border-top-color: var(--fill-color);\n",
              "    }\n",
              "    60% {\n",
              "      border-color: transparent;\n",
              "      border-right-color: var(--fill-color);\n",
              "    }\n",
              "    80% {\n",
              "      border-color: transparent;\n",
              "      border-right-color: var(--fill-color);\n",
              "      border-bottom-color: var(--fill-color);\n",
              "    }\n",
              "    90% {\n",
              "      border-color: transparent;\n",
              "      border-bottom-color: var(--fill-color);\n",
              "    }\n",
              "  }\n",
              "</style>\n",
              "\n",
              "  <script>\n",
              "    async function quickchart(key) {\n",
              "      const quickchartButtonEl =\n",
              "        document.querySelector('#' + key + ' button');\n",
              "      quickchartButtonEl.disabled = true;  // To prevent multiple clicks.\n",
              "      quickchartButtonEl.classList.add('colab-df-spinner');\n",
              "      try {\n",
              "        const charts = await google.colab.kernel.invokeFunction(\n",
              "            'suggestCharts', [key], {});\n",
              "      } catch (error) {\n",
              "        console.error('Error during call to suggestCharts:', error);\n",
              "      }\n",
              "      quickchartButtonEl.classList.remove('colab-df-spinner');\n",
              "      quickchartButtonEl.classList.add('colab-df-quickchart-complete');\n",
              "    }\n",
              "    (() => {\n",
              "      let quickchartButtonEl =\n",
              "        document.querySelector('#df-d626fa9b-b59e-421e-b239-f76bcfa47d25 button');\n",
              "      quickchartButtonEl.style.display =\n",
              "        google.colab.kernel.accessAllowed ? 'block' : 'none';\n",
              "    })();\n",
              "  </script>\n",
              "</div>\n",
              "\n",
              "    </div>\n",
              "  </div>\n"
            ],
            "application/vnd.google.colaboratory.intrinsic+json": {
              "type": "dataframe",
              "variable_name": "df",
              "summary": "{\n  \"name\": \"df\",\n  \"rows\": 7400,\n  \"fields\": [\n    {\n      \"column\": \"Faceboob_ID\",\n      \"properties\": {\n        \"dtype\": \"number\",\n        \"std\": 3715,\n        \"min\": 1,\n        \"max\": 13200,\n        \"num_unique_values\": 5808,\n        \"samples\": [\n          1970,\n          200,\n          5597\n        ],\n        \"semantic_type\": \"\",\n        \"description\": \"\"\n      }\n    },\n    {\n      \"column\": \"Entity\",\n      \"properties\": {\n        \"dtype\": \"category\",\n        \"num_unique_values\": 32,\n        \"samples\": [\n          \"RedDeadRedemption(RDR)\",\n          \"Xbox(Xseries)\",\n          \"PlayerUnknownsBattlegrounds(PUBG)\"\n        ],\n        \"semantic_type\": \"\",\n        \"description\": \"\"\n      }\n    },\n    {\n      \"column\": \"Sentiment\",\n      \"properties\": {\n        \"dtype\": \"category\",\n        \"num_unique_values\": 4,\n        \"samples\": [\n          \"Neutral\",\n          \"Positive\",\n          \"Negative\"\n        ],\n        \"semantic_type\": \"\",\n        \"description\": \"\"\n      }\n    },\n    {\n      \"column\": \"Review_Content\",\n      \"properties\": {\n        \"dtype\": \"string\",\n        \"num_unique_values\": 7219,\n        \"samples\": [\n          \"I\\u2019m shocked that the majority of people on Facebook actually thought pubs would be opening and would go straight back to normal \\ud83e\\udd74\",\n          \"Hello, @ NvidiaNL, for weeks I have been looking for an Nvidia Shield TV Pro to replace my Nvidia Shield 2015, but I can't get it anywhere. What's wrong? Why are you introducing a product I can't buy?\",\n          \"So When I play game franchise they in madden, painful hand crashes, right as I start. We\\u2019re still having these problems @EAMaddenNFL????\"\n        ],\n        \"semantic_type\": \"\",\n        \"description\": \"\"\n      }\n    }\n  ]\n}"
            }
          },
          "metadata": {},
          "execution_count": 10
        }
      ],
      "source": [
        "#Display a few entries\n",
        "df.head()"
      ]
    },
    {
      "source": [
        "# @title Sentiment\n",
        "#visualizing horizontal bar plot across different categories of sentiments in a dataframe\n",
        "from matplotlib import pyplot as plt\n",
        "import seaborn as sns\n",
        "df.groupby('Sentiment').size().plot(kind='barh', color=sns.palettes.mpl_palette('Dark2'))\n",
        "plt.gca().spines[['top', 'right',]].set_visible(False)"
      ],
      "cell_type": "code",
      "execution_count": null,
      "outputs": [
        {
          "output_type": "display_data",
          "data": {
            "text/plain": [
              "<Figure size 640x480 with 1 Axes>"
            ],
            "image/png": "[encoded data removed]"
          },
          "metadata": {}
        }
      ],
      "metadata": {
        "colab": {
          "base_uri": "https://localhost:8080/",
          "height": 430
        },
        "id": "zq7RQz3589QD",
        "outputId": "ba156a96-9f22-4c97-9abe-6f9121570e8c"
      }
    },
    {
      "cell_type": "markdown",
      "metadata": {
        "id": "8rfkErKg6KOT"
      },
      "source": [
        "## Checking Balance of the Data in Output Categories"
      ]
    },
    {
      "cell_type": "code",
      "execution_count": null,
      "metadata": {
        "colab": {
          "base_uri": "https://localhost:8080/",
          "height": 448
        },
        "id": "OWCjwKW-6KOT",
        "outputId": "6a4fae50-848b-4312-f704-a64b45e5efb6"
      },
      "outputs": [
        {
          "output_type": "execute_result",
          "data": {
            "text/plain": [
              "<BarContainer object of 4 artists>"
            ]
          },
          "metadata": {},
          "execution_count": 12
        },
        {
          "output_type": "display_data",
          "data": {
            "text/plain": [
              "<Figure size 640x480 with 1 Axes>"
            ],
            "image/png": "[encoded data removed]"
          },
          "metadata": {}
        }
      ],
      "source": [
        "#Checking balance of target classes\n",
        "#Again checking the distribution of sentiments across the data frame using bar plot\n",
        "sentiments = list(df[\"Sentiment\"].unique())\n",
        "\n",
        "sentiment_nums = [len(df[df[\"Sentiment\"] == sentiment]) / len(df) for sentiment in sentiments]\n",
        "\n",
        "plt.bar(sentiments, sentiment_nums)"
      ]
    },
    {
      "cell_type": "markdown",
      "metadata": {
        "id": "IRbOkjbJ6KOT"
      },
      "source": [
        "## Labels to Indexes (and Back Again)\n"
      ]
    },
    {
      "cell_type": "code",
      "execution_count": null,
      "metadata": {
        "id": "KplwsQL86KOT"
      },
      "outputs": [],
      "source": [
        "#Define the indexing for each possible label in a dictionary\n",
        "#using lambda function to Map sentiment names to numerical indices.\n",
        "class_to_index = {\"Neutral\":0, \"Irrelevant\":1, \"Negative\":2, \"Positive\": 3}\n",
        "\n",
        "#Creates a reverse dictionary\n",
        "index_to_class = dict((v,k) for k, v in class_to_index.items())\n",
        "\n",
        "#Creates lambda functions, applying the appropriate dictionary\n",
        "names_to_ids = lambda n: np.array([class_to_index.get(x) for x in n])\n",
        "ids_to_names = lambda n: np.array([index_to_class.get(x) for x in n])"
      ]
    },
    {
      "cell_type": "code",
      "execution_count": null,
      "metadata": {
        "colab": {
          "base_uri": "https://localhost:8080/"
        },
        "id": "MofmhcKw6KOU",
        "outputId": "c522fcca-00eb-40c6-9e06-daacbe118df9"
      },
      "outputs": [
        {
          "output_type": "stream",
          "name": "stdout",
          "text": [
            "[3 2 1 0]\n",
            "['Neutral' 'Irrelevant' 'Negative' 'Positive']\n"
          ]
        }
      ],
      "source": [
        "#Test each function\n",
        "print(names_to_ids([\"Positive\", \"Negative\", \"Irrelevant\", \"Neutral\"]))\n",
        "print(ids_to_names([0,1,2,3]))"
      ]
    },
    {
      "cell_type": "code",
      "execution_count": null,
      "metadata": {
        "id": "BiowHoIb6KOU"
      },
      "outputs": [],
      "source": [
        "#Convert the \"Sentiment\" column into indexes\n",
        "df[\"Sentiment\"] = names_to_ids(df[\"Sentiment\"])"
      ]
    },
    {
      "cell_type": "code",
      "execution_count": null,
      "metadata": {
        "colab": {
          "base_uri": "https://localhost:8080/",
          "height": 206
        },
        "id": "GqU2HMA66KOU",
        "outputId": "51339018-ef22-4b28-eae1-f6ddc82de077"
      },
      "outputs": [
        {
          "output_type": "execute_result",
          "data": {
            "text/plain": [
              "   Faceboob_ID                Entity  Sentiment  \\\n",
              "0         2535           Borderlands          2   \n",
              "1        11073  TomClancysGhostRecon          2   \n",
              "2         3024                 Dota2          0   \n",
              "3         6719              Fortnite          2   \n",
              "4         1533           Battlefield          2   \n",
              "\n",
              "                                      Review_Content  \n",
              "0  @ Borderlands. Can we get a big fix please? I'...  \n",
              "1  @GhostRecon You call 1.1.0 an update. You're h...  \n",
              "2  I'm excited to watch the EU's closed qualifyin...  \n",
              "3         anyways but my fortnite here,, im annoyed.  \n",
              "4  Collateral with the revolver is so satisfying....  "
            ],
            "text/html": [
              "\n",
              "  <div id=\"df-07bb98de-774c-46b6-a67a-4d97f7d0961a\" class=\"colab-df-container\">\n",
              "    <div>\n",
              "<style scoped>\n",
              "    .dataframe tbody tr th:only-of-type {\n",
              "        vertical-align: middle;\n",
              "    }\n",
              "\n",
              "    .dataframe tbody tr th {\n",
              "        vertical-align: top;\n",
              "    }\n",
              "\n",
              "    .dataframe thead th {\n",
              "        text-align: right;\n",
              "    }\n",
              "</style>\n",
              "<table border=\"1\" class=\"dataframe\">\n",
              "  <thead>\n",
              "    <tr style=\"text-align: right;\">\n",
              "      <th></th>\n",
              "      <th>Faceboob_ID</th>\n",
              "      <th>Entity</th>\n",
              "      <th>Sentiment</th>\n",
              "      <th>Review_Content</th>\n",
              "    </tr>\n",
              "  </thead>\n",
              "  <tbody>\n",
              "    <tr>\n",
              "      <th>0</th>\n",
              "      <td>2535</td>\n",
              "      <td>Borderlands</td>\n",
              "      <td>2</td>\n",
              "      <td>@ Borderlands. Can we get a big fix please? I'...</td>\n",
              "    </tr>\n",
              "    <tr>\n",
              "      <th>1</th>\n",
              "      <td>11073</td>\n",
              "      <td>TomClancysGhostRecon</td>\n",
              "      <td>2</td>\n",
              "      <td>@GhostRecon You call 1.1.0 an update. You're h...</td>\n",
              "    </tr>\n",
              "    <tr>\n",
              "      <th>2</th>\n",
              "      <td>3024</td>\n",
              "      <td>Dota2</td>\n",
              "      <td>0</td>\n",
              "      <td>I'm excited to watch the EU's closed qualifyin...</td>\n",
              "    </tr>\n",
              "    <tr>\n",
              "      <th>3</th>\n",
              "      <td>6719</td>\n",
              "      <td>Fortnite</td>\n",
              "      <td>2</td>\n",
              "      <td>anyways but my fortnite here,, im annoyed.</td>\n",
              "    </tr>\n",
              "    <tr>\n",
              "      <th>4</th>\n",
              "      <td>1533</td>\n",
              "      <td>Battlefield</td>\n",
              "      <td>2</td>\n",
              "      <td>Collateral with the revolver is so satisfying....</td>\n",
              "    </tr>\n",
              "  </tbody>\n",
              "</table>\n",
              "</div>\n",
              "    <div class=\"colab-df-buttons\">\n",
              "\n",
              "  <div class=\"colab-df-container\">\n",
              "    <button class=\"colab-df-convert\" onclick=\"convertToInteractive('df-07bb98de-774c-46b6-a67a-4d97f7d0961a')\"\n",
              "            title=\"Convert this dataframe to an interactive table.\"\n",
              "            style=\"display:none;\">\n",
              "\n",
              "  <svg xmlns=\"http://www.w3.org/2000/svg\" height=\"24px\" viewBox=\"0 -960 960 960\">\n",
              "    <path d=\"M120-120v-720h720v720H120Zm60-500h600v-160H180v160Zm220 220h160v-160H400v160Zm0 220h160v-160H400v160ZM180-400h160v-160H180v160Zm440 0h160v-160H620v160ZM180-180h160v-160H180v160Zm440 0h160v-160H620v160Z\"/>\n",
              "  </svg>\n",
              "    </button>\n",
              "\n",
              "  <style>\n",
              "    .colab-df-container {\n",
              "      display:flex;\n",
              "      gap: 12px;\n",
              "    }\n",
              "\n",
              "    .colab-df-convert {\n",
              "      background-color: #E8F0FE;\n",
              "      border: none;\n",
              "      border-radius: 50%;\n",
              "      cursor: pointer;\n",
              "      display: none;\n",
              "      fill: #1967D2;\n",
              "      height: 32px;\n",
              "      padding: 0 0 0 0;\n",
              "      width: 32px;\n",
              "    }\n",
              "\n",
              "    .colab-df-convert:hover {\n",
              "      background-color: #E2EBFA;\n",
              "      box-shadow: 0px 1px 2px rgba(60, 64, 67, 0.3), 0px 1px 3px 1px rgba(60, 64, 67, 0.15);\n",
              "      fill: #174EA6;\n",
              "    }\n",
              "\n",
              "    .colab-df-buttons div {\n",
              "      margin-bottom: 4px;\n",
              "    }\n",
              "\n",
              "    [theme=dark] .colab-df-convert {\n",
              "      background-color: #3B4455;\n",
              "      fill: #D2E3FC;\n",
              "    }\n",
              "\n",
              "    [theme=dark] .colab-df-convert:hover {\n",
              "      background-color: #434B5C;\n",
              "      box-shadow: 0px 1px 3px 1px rgba(0, 0, 0, 0.15);\n",
              "      filter: drop-shadow(0px 1px 2px rgba(0, 0, 0, 0.3));\n",
              "      fill: #FFFFFF;\n",
              "    }\n",
              "  </style>\n",
              "\n",
              "    <script>\n",
              "      const buttonEl =\n",
              "        document.querySelector('#df-07bb98de-774c-46b6-a67a-4d97f7d0961a button.colab-df-convert');\n",
              "      buttonEl.style.display =\n",
              "        google.colab.kernel.accessAllowed ? 'block' : 'none';\n",
              "\n",
              "      async function convertToInteractive(key) {\n",
              "        const element = document.querySelector('#df-07bb98de-774c-46b6-a67a-4d97f7d0961a');\n",
              "        const dataTable =\n",
              "          await google.colab.kernel.invokeFunction('convertToInteractive',\n",
              "                                                    [key], {});\n",
              "        if (!dataTable) return;\n",
              "\n",
              "        const docLinkHtml = 'Like what you see? Visit the ' +\n",
              "          '<a target=\"_blank\" href=https://colab.research.google.com/notebooks/data_table.ipynb>data table notebook</a>'\n",
              "          + ' to learn more about interactive tables.';\n",
              "        element.innerHTML = '';\n",
              "        dataTable['output_type'] = 'display_data';\n",
              "        await google.colab.output.renderOutput(dataTable, element);\n",
              "        const docLink = document.createElement('div');\n",
              "        docLink.innerHTML = docLinkHtml;\n",
              "        element.appendChild(docLink);\n",
              "      }\n",
              "    </script>\n",
              "  </div>\n",
              "\n",
              "\n",
              "<div id=\"df-5cc53fb3-e59f-4ca6-91ed-eee004932d76\">\n",
              "  <button class=\"colab-df-quickchart\" onclick=\"quickchart('df-5cc53fb3-e59f-4ca6-91ed-eee004932d76')\"\n",
              "            title=\"Suggest charts\"\n",
              "            style=\"display:none;\">\n",
              "\n",
              "<svg xmlns=\"http://www.w3.org/2000/svg\" height=\"24px\"viewBox=\"0 0 24 24\"\n",
              "     width=\"24px\">\n",
              "    <g>\n",
              "        <path d=\"M19 3H5c-1.1 0-2 .9-2 2v14c0 1.1.9 2 2 2h14c1.1 0 2-.9 2-2V5c0-1.1-.9-2-2-2zM9 17H7v-7h2v7zm4 0h-2V7h2v10zm4 0h-2v-4h2v4z\"/>\n",
              "    </g>\n",
              "</svg>\n",
              "  </button>\n",
              "\n",
              "<style>\n",
              "  .colab-df-quickchart {\n",
              "      --bg-color: #E8F0FE;\n",
              "      --fill-color: #1967D2;\n",
              "      --hover-bg-color: #E2EBFA;\n",
              "      --hover-fill-color: #174EA6;\n",
              "      --disabled-fill-color: #AAA;\n",
              "      --disabled-bg-color: #DDD;\n",
              "  }\n",
              "\n",
              "  [theme=dark] .colab-df-quickchart {\n",
              "      --bg-color: #3B4455;\n",
              "      --fill-color: #D2E3FC;\n",
              "      --hover-bg-color: #434B5C;\n",
              "      --hover-fill-color: #FFFFFF;\n",
              "      --disabled-bg-color: #3B4455;\n",
              "      --disabled-fill-color: #666;\n",
              "  }\n",
              "\n",
              "  .colab-df-quickchart {\n",
              "    background-color: var(--bg-color);\n",
              "    border: none;\n",
              "    border-radius: 50%;\n",
              "    cursor: pointer;\n",
              "    display: none;\n",
              "    fill: var(--fill-color);\n",
              "    height: 32px;\n",
              "    padding: 0;\n",
              "    width: 32px;\n",
              "  }\n",
              "\n",
              "  .colab-df-quickchart:hover {\n",
              "    background-color: var(--hover-bg-color);\n",
              "    box-shadow: 0 1px 2px rgba(60, 64, 67, 0.3), 0 1px 3px 1px rgba(60, 64, 67, 0.15);\n",
              "    fill: var(--button-hover-fill-color);\n",
              "  }\n",
              "\n",
              "  .colab-df-quickchart-complete:disabled,\n",
              "  .colab-df-quickchart-complete:disabled:hover {\n",
              "    background-color: var(--disabled-bg-color);\n",
              "    fill: var(--disabled-fill-color);\n",
              "    box-shadow: none;\n",
              "  }\n",
              "\n",
              "  .colab-df-spinner {\n",
              "    border: 2px solid var(--fill-color);\n",
              "    border-color: transparent;\n",
              "    border-bottom-color: var(--fill-color);\n",
              "    animation:\n",
              "      spin 1s steps(1) infinite;\n",
              "  }\n",
              "\n",
              "  @keyframes spin {\n",
              "    0% {\n",
              "      border-color: transparent;\n",
              "      border-bottom-color: var(--fill-color);\n",
              "      border-left-color: var(--fill-color);\n",
              "    }\n",
              "    20% {\n",
              "      border-color: transparent;\n",
              "      border-left-color: var(--fill-color);\n",
              "      border-top-color: var(--fill-color);\n",
              "    }\n",
              "    30% {\n",
              "      border-color: transparent;\n",
              "      border-left-color: var(--fill-color);\n",
              "      border-top-color: var(--fill-color);\n",
              "      border-right-color: var(--fill-color);\n",
              "    }\n",
              "    40% {\n",
              "      border-color: transparent;\n",
              "      border-right-color: var(--fill-color);\n",
              "      border-top-color: var(--fill-color);\n",
              "    }\n",
              "    60% {\n",
              "      border-color: transparent;\n",
              "      border-right-color: var(--fill-color);\n",
              "    }\n",
              "    80% {\n",
              "      border-color: transparent;\n",
              "      border-right-color: var(--fill-color);\n",
              "      border-bottom-color: var(--fill-color);\n",
              "    }\n",
              "    90% {\n",
              "      border-color: transparent;\n",
              "      border-bottom-color: var(--fill-color);\n",
              "    }\n",
              "  }\n",
              "</style>\n",
              "\n",
              "  <script>\n",
              "    async function quickchart(key) {\n",
              "      const quickchartButtonEl =\n",
              "        document.querySelector('#' + key + ' button');\n",
              "      quickchartButtonEl.disabled = true;  // To prevent multiple clicks.\n",
              "      quickchartButtonEl.classList.add('colab-df-spinner');\n",
              "      try {\n",
              "        const charts = await google.colab.kernel.invokeFunction(\n",
              "            'suggestCharts', [key], {});\n",
              "      } catch (error) {\n",
              "        console.error('Error during call to suggestCharts:', error);\n",
              "      }\n",
              "      quickchartButtonEl.classList.remove('colab-df-spinner');\n",
              "      quickchartButtonEl.classList.add('colab-df-quickchart-complete');\n",
              "    }\n",
              "    (() => {\n",
              "      let quickchartButtonEl =\n",
              "        document.querySelector('#df-5cc53fb3-e59f-4ca6-91ed-eee004932d76 button');\n",
              "      quickchartButtonEl.style.display =\n",
              "        google.colab.kernel.accessAllowed ? 'block' : 'none';\n",
              "    })();\n",
              "  </script>\n",
              "</div>\n",
              "\n",
              "    </div>\n",
              "  </div>\n"
            ],
            "application/vnd.google.colaboratory.intrinsic+json": {
              "type": "dataframe",
              "variable_name": "df",
              "summary": "{\n  \"name\": \"df\",\n  \"rows\": 7400,\n  \"fields\": [\n    {\n      \"column\": \"Faceboob_ID\",\n      \"properties\": {\n        \"dtype\": \"number\",\n        \"std\": 3715,\n        \"min\": 1,\n        \"max\": 13200,\n        \"num_unique_values\": 5808,\n        \"samples\": [\n          1970,\n          200,\n          5597\n        ],\n        \"semantic_type\": \"\",\n        \"description\": \"\"\n      }\n    },\n    {\n      \"column\": \"Entity\",\n      \"properties\": {\n        \"dtype\": \"category\",\n        \"num_unique_values\": 32,\n        \"samples\": [\n          \"RedDeadRedemption(RDR)\",\n          \"Xbox(Xseries)\",\n          \"PlayerUnknownsBattlegrounds(PUBG)\"\n        ],\n        \"semantic_type\": \"\",\n        \"description\": \"\"\n      }\n    },\n    {\n      \"column\": \"Sentiment\",\n      \"properties\": {\n        \"dtype\": \"number\",\n        \"std\": 1,\n        \"min\": 0,\n        \"max\": 3,\n        \"num_unique_values\": 4,\n        \"samples\": [\n          0,\n          3,\n          2\n        ],\n        \"semantic_type\": \"\",\n        \"description\": \"\"\n      }\n    },\n    {\n      \"column\": \"Review_Content\",\n      \"properties\": {\n        \"dtype\": \"string\",\n        \"num_unique_values\": 7219,\n        \"samples\": [\n          \"I\\u2019m shocked that the majority of people on Facebook actually thought pubs would be opening and would go straight back to normal \\ud83e\\udd74\",\n          \"Hello, @ NvidiaNL, for weeks I have been looking for an Nvidia Shield TV Pro to replace my Nvidia Shield 2015, but I can't get it anywhere. What's wrong? Why are you introducing a product I can't buy?\",\n          \"So When I play game franchise they in madden, painful hand crashes, right as I start. We\\u2019re still having these problems @EAMaddenNFL????\"\n        ],\n        \"semantic_type\": \"\",\n        \"description\": \"\"\n      }\n    }\n  ]\n}"
            }
          },
          "metadata": {},
          "execution_count": 16
        }
      ],
      "source": [
        "df.head()"
      ]
    },
    {
      "cell_type": "code",
      "source": [],
      "metadata": {
        "id": "aMI_liZStqU4"
      },
      "execution_count": null,
      "outputs": []
    },
    {
      "cell_type": "markdown",
      "metadata": {
        "id": "9EXVT2lD6KOU"
      },
      "source": [
        "## NLP Data Enrichment"
      ]
    },
    {
      "cell_type": "code",
      "execution_count": null,
      "metadata": {
        "colab": {
          "base_uri": "https://localhost:8080/"
        },
        "id": "WZaV_M0H6KOU",
        "outputId": "bd1843b0-9f73-41f3-ac9e-d30ddcd8469f"
      },
      "outputs": [
        {
          "output_type": "stream",
          "name": "stderr",
          "text": [
            "[nltk_data] Downloading package punkt to /root/nltk_data...\n",
            "[nltk_data]   Unzipping tokenizers/punkt.zip.\n",
            "[nltk_data] Downloading package stopwords to /root/nltk_data...\n",
            "[nltk_data]   Unzipping corpora/stopwords.zip.\n",
            "[nltk_data] Downloading package wordnet to /root/nltk_data...\n"
          ]
        }
      ],
      "source": [
        "#Tokenize, lemmatize, remove stopwords, and join.\n",
        "import nltk\n",
        "nltk.download('punkt')\n",
        "nltk.download('stopwords')\n",
        "nltk.download('wordnet')\n",
        "def remove_stopwords(ls):\n",
        "    #Lemmatises, then removes stop words\n",
        "    ls = [lemmatiser.lemmatize(word) for word in ls if word not in (stop_english) and (word.isalpha())]\n",
        "\n",
        "    #Joins the words back into a single string\n",
        "    ls = \" \".join(ls)\n",
        "    return ls\n",
        "\n",
        "#Splits each string into a list of words\n",
        "df[\"Review_Content_Split\"] = df[\"Review_Content\"].apply(word_tokenize)\n",
        "\n",
        "#Applies the above function to each entry in the DataFrame\n",
        "lemmatiser = WordNetLemmatizer()\n",
        "stop_english = Counter(stopwords.words()) #Here we use a Counter dictionary on the cached\n",
        "                                          # list of stop words for a huge speed-up\n",
        "df[\"Review_Content_Split\"] = df[\"Review_Content_Split\"].apply(remove_stopwords)"
      ]
    },
    {
      "cell_type": "code",
      "execution_count": null,
      "metadata": {
        "colab": {
          "base_uri": "https://localhost:8080/",
          "height": 276
        },
        "id": "FnX2qhOZ6KOU",
        "outputId": "856c4c8f-548c-4eb2-a1e1-27a531ad4f14"
      },
      "outputs": [
        {
          "output_type": "execute_result",
          "data": {
            "text/plain": [
              "   Faceboob_ID                Entity  Sentiment  \\\n",
              "0         2535           Borderlands          2   \n",
              "1        11073  TomClancysGhostRecon          2   \n",
              "2         3024                 Dota2          0   \n",
              "3         6719              Fortnite          2   \n",
              "4         1533           Battlefield          2   \n",
              "\n",
              "                                      Review_Content  \\\n",
              "0  @ Borderlands. Can we get a big fix please? I'...   \n",
              "1  @GhostRecon You call 1.1.0 an update. You're h...   \n",
              "2  I'm excited to watch the EU's closed qualifyin...   \n",
              "3         anyways but my fortnite here,, im annoyed.   \n",
              "4  Collateral with the revolver is so satisfying....   \n",
              "\n",
              "                                Review_Content_Split  \n",
              "0  Borderlands Can big fix I reset entire factory...  \n",
              "1  GhostRecon You call update You laugh stay conn...  \n",
              "2  I excited watch EU closed qualifying match EU ...  \n",
              "3                                   fortnite annoyed  \n",
              "4                            Collateral revolver unk  "
            ],
            "text/html": [
              "\n",
              "  <div id=\"df-3dc2003e-1762-49d8-86da-10838540fa60\" class=\"colab-df-container\">\n",
              "    <div>\n",
              "<style scoped>\n",
              "    .dataframe tbody tr th:only-of-type {\n",
              "        vertical-align: middle;\n",
              "    }\n",
              "\n",
              "    .dataframe tbody tr th {\n",
              "        vertical-align: top;\n",
              "    }\n",
              "\n",
              "    .dataframe thead th {\n",
              "        text-align: right;\n",
              "    }\n",
              "</style>\n",
              "<table border=\"1\" class=\"dataframe\">\n",
              "  <thead>\n",
              "    <tr style=\"text-align: right;\">\n",
              "      <th></th>\n",
              "      <th>Faceboob_ID</th>\n",
              "      <th>Entity</th>\n",
              "      <th>Sentiment</th>\n",
              "      <th>Review_Content</th>\n",
              "      <th>Review_Content_Split</th>\n",
              "    </tr>\n",
              "  </thead>\n",
              "  <tbody>\n",
              "    <tr>\n",
              "      <th>0</th>\n",
              "      <td>2535</td>\n",
              "      <td>Borderlands</td>\n",
              "      <td>2</td>\n",
              "      <td>@ Borderlands. Can we get a big fix please? I'...</td>\n",
              "      <td>Borderlands Can big fix I reset entire factory...</td>\n",
              "    </tr>\n",
              "    <tr>\n",
              "      <th>1</th>\n",
              "      <td>11073</td>\n",
              "      <td>TomClancysGhostRecon</td>\n",
              "      <td>2</td>\n",
              "      <td>@GhostRecon You call 1.1.0 an update. You're h...</td>\n",
              "      <td>GhostRecon You call update You laugh stay conn...</td>\n",
              "    </tr>\n",
              "    <tr>\n",
              "      <th>2</th>\n",
              "      <td>3024</td>\n",
              "      <td>Dota2</td>\n",
              "      <td>0</td>\n",
              "      <td>I'm excited to watch the EU's closed qualifyin...</td>\n",
              "      <td>I excited watch EU closed qualifying match EU ...</td>\n",
              "    </tr>\n",
              "    <tr>\n",
              "      <th>3</th>\n",
              "      <td>6719</td>\n",
              "      <td>Fortnite</td>\n",
              "      <td>2</td>\n",
              "      <td>anyways but my fortnite here,, im annoyed.</td>\n",
              "      <td>fortnite annoyed</td>\n",
              "    </tr>\n",
              "    <tr>\n",
              "      <th>4</th>\n",
              "      <td>1533</td>\n",
              "      <td>Battlefield</td>\n",
              "      <td>2</td>\n",
              "      <td>Collateral with the revolver is so satisfying....</td>\n",
              "      <td>Collateral revolver unk</td>\n",
              "    </tr>\n",
              "  </tbody>\n",
              "</table>\n",
              "</div>\n",
              "    <div class=\"colab-df-buttons\">\n",
              "\n",
              "  <div class=\"colab-df-container\">\n",
              "    <button class=\"colab-df-convert\" onclick=\"convertToInteractive('df-3dc2003e-1762-49d8-86da-10838540fa60')\"\n",
              "            title=\"Convert this dataframe to an interactive table.\"\n",
              "            style=\"display:none;\">\n",
              "\n",
              "  <svg xmlns=\"http://www.w3.org/2000/svg\" height=\"24px\" viewBox=\"0 -960 960 960\">\n",
              "    <path d=\"M120-120v-720h720v720H120Zm60-500h600v-160H180v160Zm220 220h160v-160H400v160Zm0 220h160v-160H400v160ZM180-400h160v-160H180v160Zm440 0h160v-160H620v160ZM180-180h160v-160H180v160Zm440 0h160v-160H620v160Z\"/>\n",
              "  </svg>\n",
              "    </button>\n",
              "\n",
              "  <style>\n",
              "    .colab-df-container {\n",
              "      display:flex;\n",
              "      gap: 12px;\n",
              "    }\n",
              "\n",
              "    .colab-df-convert {\n",
              "      background-color: #E8F0FE;\n",
              "      border: none;\n",
              "      border-radius: 50%;\n",
              "      cursor: pointer;\n",
              "      display: none;\n",
              "      fill: #1967D2;\n",
              "      height: 32px;\n",
              "      padding: 0 0 0 0;\n",
              "      width: 32px;\n",
              "    }\n",
              "\n",
              "    .colab-df-convert:hover {\n",
              "      background-color: #E2EBFA;\n",
              "      box-shadow: 0px 1px 2px rgba(60, 64, 67, 0.3), 0px 1px 3px 1px rgba(60, 64, 67, 0.15);\n",
              "      fill: #174EA6;\n",
              "    }\n",
              "\n",
              "    .colab-df-buttons div {\n",
              "      margin-bottom: 4px;\n",
              "    }\n",
              "\n",
              "    [theme=dark] .colab-df-convert {\n",
              "      background-color: #3B4455;\n",
              "      fill: #D2E3FC;\n",
              "    }\n",
              "\n",
              "    [theme=dark] .colab-df-convert:hover {\n",
              "      background-color: #434B5C;\n",
              "      box-shadow: 0px 1px 3px 1px rgba(0, 0, 0, 0.15);\n",
              "      filter: drop-shadow(0px 1px 2px rgba(0, 0, 0, 0.3));\n",
              "      fill: #FFFFFF;\n",
              "    }\n",
              "  </style>\n",
              "\n",
              "    <script>\n",
              "      const buttonEl =\n",
              "        document.querySelector('#df-3dc2003e-1762-49d8-86da-10838540fa60 button.colab-df-convert');\n",
              "      buttonEl.style.display =\n",
              "        google.colab.kernel.accessAllowed ? 'block' : 'none';\n",
              "\n",
              "      async function convertToInteractive(key) {\n",
              "        const element = document.querySelector('#df-3dc2003e-1762-49d8-86da-10838540fa60');\n",
              "        const dataTable =\n",
              "          await google.colab.kernel.invokeFunction('convertToInteractive',\n",
              "                                                    [key], {});\n",
              "        if (!dataTable) return;\n",
              "\n",
              "        const docLinkHtml = 'Like what you see? Visit the ' +\n",
              "          '<a target=\"_blank\" href=https://colab.research.google.com/notebooks/data_table.ipynb>data table notebook</a>'\n",
              "          + ' to learn more about interactive tables.';\n",
              "        element.innerHTML = '';\n",
              "        dataTable['output_type'] = 'display_data';\n",
              "        await google.colab.output.renderOutput(dataTable, element);\n",
              "        const docLink = document.createElement('div');\n",
              "        docLink.innerHTML = docLinkHtml;\n",
              "        element.appendChild(docLink);\n",
              "      }\n",
              "    </script>\n",
              "  </div>\n",
              "\n",
              "\n",
              "<div id=\"df-a9f4653a-7c4a-463d-9f57-f88c16da2df0\">\n",
              "  <button class=\"colab-df-quickchart\" onclick=\"quickchart('df-a9f4653a-7c4a-463d-9f57-f88c16da2df0')\"\n",
              "            title=\"Suggest charts\"\n",
              "            style=\"display:none;\">\n",
              "\n",
              "<svg xmlns=\"http://www.w3.org/2000/svg\" height=\"24px\"viewBox=\"0 0 24 24\"\n",
              "     width=\"24px\">\n",
              "    <g>\n",
              "        <path d=\"M19 3H5c-1.1 0-2 .9-2 2v14c0 1.1.9 2 2 2h14c1.1 0 2-.9 2-2V5c0-1.1-.9-2-2-2zM9 17H7v-7h2v7zm4 0h-2V7h2v10zm4 0h-2v-4h2v4z\"/>\n",
              "    </g>\n",
              "</svg>\n",
              "  </button>\n",
              "\n",
              "<style>\n",
              "  .colab-df-quickchart {\n",
              "      --bg-color: #E8F0FE;\n",
              "      --fill-color: #1967D2;\n",
              "      --hover-bg-color: #E2EBFA;\n",
              "      --hover-fill-color: #174EA6;\n",
              "      --disabled-fill-color: #AAA;\n",
              "      --disabled-bg-color: #DDD;\n",
              "  }\n",
              "\n",
              "  [theme=dark] .colab-df-quickchart {\n",
              "      --bg-color: #3B4455;\n",
              "      --fill-color: #D2E3FC;\n",
              "      --hover-bg-color: #434B5C;\n",
              "      --hover-fill-color: #FFFFFF;\n",
              "      --disabled-bg-color: #3B4455;\n",
              "      --disabled-fill-color: #666;\n",
              "  }\n",
              "\n",
              "  .colab-df-quickchart {\n",
              "    background-color: var(--bg-color);\n",
              "    border: none;\n",
              "    border-radius: 50%;\n",
              "    cursor: pointer;\n",
              "    display: none;\n",
              "    fill: var(--fill-color);\n",
              "    height: 32px;\n",
              "    padding: 0;\n",
              "    width: 32px;\n",
              "  }\n",
              "\n",
              "  .colab-df-quickchart:hover {\n",
              "    background-color: var(--hover-bg-color);\n",
              "    box-shadow: 0 1px 2px rgba(60, 64, 67, 0.3), 0 1px 3px 1px rgba(60, 64, 67, 0.15);\n",
              "    fill: var(--button-hover-fill-color);\n",
              "  }\n",
              "\n",
              "  .colab-df-quickchart-complete:disabled,\n",
              "  .colab-df-quickchart-complete:disabled:hover {\n",
              "    background-color: var(--disabled-bg-color);\n",
              "    fill: var(--disabled-fill-color);\n",
              "    box-shadow: none;\n",
              "  }\n",
              "\n",
              "  .colab-df-spinner {\n",
              "    border: 2px solid var(--fill-color);\n",
              "    border-color: transparent;\n",
              "    border-bottom-color: var(--fill-color);\n",
              "    animation:\n",
              "      spin 1s steps(1) infinite;\n",
              "  }\n",
              "\n",
              "  @keyframes spin {\n",
              "    0% {\n",
              "      border-color: transparent;\n",
              "      border-bottom-color: var(--fill-color);\n",
              "      border-left-color: var(--fill-color);\n",
              "    }\n",
              "    20% {\n",
              "      border-color: transparent;\n",
              "      border-left-color: var(--fill-color);\n",
              "      border-top-color: var(--fill-color);\n",
              "    }\n",
              "    30% {\n",
              "      border-color: transparent;\n",
              "      border-left-color: var(--fill-color);\n",
              "      border-top-color: var(--fill-color);\n",
              "      border-right-color: var(--fill-color);\n",
              "    }\n",
              "    40% {\n",
              "      border-color: transparent;\n",
              "      border-right-color: var(--fill-color);\n",
              "      border-top-color: var(--fill-color);\n",
              "    }\n",
              "    60% {\n",
              "      border-color: transparent;\n",
              "      border-right-color: var(--fill-color);\n",
              "    }\n",
              "    80% {\n",
              "      border-color: transparent;\n",
              "      border-right-color: var(--fill-color);\n",
              "      border-bottom-color: var(--fill-color);\n",
              "    }\n",
              "    90% {\n",
              "      border-color: transparent;\n",
              "      border-bottom-color: var(--fill-color);\n",
              "    }\n",
              "  }\n",
              "</style>\n",
              "\n",
              "  <script>\n",
              "    async function quickchart(key) {\n",
              "      const quickchartButtonEl =\n",
              "        document.querySelector('#' + key + ' button');\n",
              "      quickchartButtonEl.disabled = true;  // To prevent multiple clicks.\n",
              "      quickchartButtonEl.classList.add('colab-df-spinner');\n",
              "      try {\n",
              "        const charts = await google.colab.kernel.invokeFunction(\n",
              "            'suggestCharts', [key], {});\n",
              "      } catch (error) {\n",
              "        console.error('Error during call to suggestCharts:', error);\n",
              "      }\n",
              "      quickchartButtonEl.classList.remove('colab-df-spinner');\n",
              "      quickchartButtonEl.classList.add('colab-df-quickchart-complete');\n",
              "    }\n",
              "    (() => {\n",
              "      let quickchartButtonEl =\n",
              "        document.querySelector('#df-a9f4653a-7c4a-463d-9f57-f88c16da2df0 button');\n",
              "      quickchartButtonEl.style.display =\n",
              "        google.colab.kernel.accessAllowed ? 'block' : 'none';\n",
              "    })();\n",
              "  </script>\n",
              "</div>\n",
              "\n",
              "    </div>\n",
              "  </div>\n"
            ],
            "application/vnd.google.colaboratory.intrinsic+json": {
              "type": "dataframe",
              "variable_name": "df",
              "summary": "{\n  \"name\": \"df\",\n  \"rows\": 7400,\n  \"fields\": [\n    {\n      \"column\": \"Faceboob_ID\",\n      \"properties\": {\n        \"dtype\": \"number\",\n        \"std\": 3715,\n        \"min\": 1,\n        \"max\": 13200,\n        \"num_unique_values\": 5808,\n        \"samples\": [\n          1970,\n          200,\n          5597\n        ],\n        \"semantic_type\": \"\",\n        \"description\": \"\"\n      }\n    },\n    {\n      \"column\": \"Entity\",\n      \"properties\": {\n        \"dtype\": \"category\",\n        \"num_unique_values\": 32,\n        \"samples\": [\n          \"RedDeadRedemption(RDR)\",\n          \"Xbox(Xseries)\",\n          \"PlayerUnknownsBattlegrounds(PUBG)\"\n        ],\n        \"semantic_type\": \"\",\n        \"description\": \"\"\n      }\n    },\n    {\n      \"column\": \"Sentiment\",\n      \"properties\": {\n        \"dtype\": \"number\",\n        \"std\": 1,\n        \"min\": 0,\n        \"max\": 3,\n        \"num_unique_values\": 4,\n        \"samples\": [\n          0,\n          3,\n          2\n        ],\n        \"semantic_type\": \"\",\n        \"description\": \"\"\n      }\n    },\n    {\n      \"column\": \"Review_Content\",\n      \"properties\": {\n        \"dtype\": \"string\",\n        \"num_unique_values\": 7219,\n        \"samples\": [\n          \"I\\u2019m shocked that the majority of people on Facebook actually thought pubs would be opening and would go straight back to normal \\ud83e\\udd74\",\n          \"Hello, @ NvidiaNL, for weeks I have been looking for an Nvidia Shield TV Pro to replace my Nvidia Shield 2015, but I can't get it anywhere. What's wrong? Why are you introducing a product I can't buy?\",\n          \"So When I play game franchise they in madden, painful hand crashes, right as I start. We\\u2019re still having these problems @EAMaddenNFL????\"\n        ],\n        \"semantic_type\": \"\",\n        \"description\": \"\"\n      }\n    },\n    {\n      \"column\": \"Review_Content_Split\",\n      \"properties\": {\n        \"dtype\": \"string\",\n        \"num_unique_values\": 6935,\n        \"samples\": [\n          \"But hell sweat harder skin\",\n          \"GPUDirect GeForce\",\n          \"CHILLS\"\n        ],\n        \"semantic_type\": \"\",\n        \"description\": \"\"\n      }\n    }\n  ]\n}"
            }
          },
          "metadata": {},
          "execution_count": 18
        }
      ],
      "source": [
        "df.head()"
      ]
    },
    {
      "cell_type": "markdown",
      "metadata": {
        "id": "KJvJM7B-6KOU"
      },
      "source": [
        "## Tokenisation"
      ]
    },
    {
      "cell_type": "code",
      "execution_count": null,
      "metadata": {
        "id": "buAD9SjP6KOU"
      },
      "outputs": [],
      "source": [
        "#Define the Tokeniser\n",
        "tokeniser = Tokenizer(num_words=10000, lower=True)\n",
        "\n",
        "#Create the corpus by finding the most common\n",
        "tokeniser.fit_on_texts(df[\"Review_Content_Split\"])"
      ]
    },
    {
      "cell_type": "code",
      "execution_count": null,
      "metadata": {
        "id": "DbychPv16KOU"
      },
      "outputs": [],
      "source": [
        "#Tokenise our column of edited Tweet content\n",
        "review_tokens = tokeniser.texts_to_sequences(list(df[\"Review_Content_Split\"]))"
      ]
    },
    {
      "cell_type": "code",
      "execution_count": null,
      "metadata": {
        "id": "jTm89Adn6KOU"
      },
      "outputs": [],
      "source": [
        "#Pad these sequences to make them the same length\n",
        "review_tokens = pad_sequences(review_tokens, truncating = 'post', padding='post', maxlen=50)"
      ]
    },
    {
      "cell_type": "code",
      "execution_count": null,
      "metadata": {
        "colab": {
          "base_uri": "https://localhost:8080/"
        },
        "id": "_9X_u2L46KOU",
        "outputId": "3d8344ab-643f-4852-d356-d4ecf10da52f"
      },
      "outputs": [
        {
          "output_type": "execute_result",
          "data": {
            "text/plain": [
              "(7400, 50)"
            ]
          },
          "metadata": {},
          "execution_count": 22
        }
      ],
      "source": [
        "review_tokens.shape"
      ]
    },
    {
      "cell_type": "markdown",
      "metadata": {
        "id": "qYKs_cOy6KOU"
      },
      "source": [
        "## Final Data Preparation"
      ]
    },
    {
      "cell_type": "code",
      "execution_count": null,
      "metadata": {
        "id": "3oUHZsdT6KOV"
      },
      "outputs": [],
      "source": [
        "#Remove dependent variable\n",
        "y = df[\"Sentiment\"]\n",
        "\n",
        "#Drop all non-useful columns\n",
        "df = pd.DataFrame(review_tokens)"
      ]
    },
    {
      "cell_type": "code",
      "execution_count": null,
      "metadata": {
        "colab": {
          "base_uri": "https://localhost:8080/"
        },
        "id": "6PIf7mST6KOV",
        "outputId": "6775a950-deeb-4b5b-f10f-1552bbefcff9"
      },
      "outputs": [
        {
          "output_type": "execute_result",
          "data": {
            "text/plain": [
              "(7400, 50)"
            ]
          },
          "metadata": {},
          "execution_count": 24
        }
      ],
      "source": [
        "#Display final shape\n",
        "df.shape"
      ]
    },
    {
      "cell_type": "markdown",
      "metadata": {
        "id": "dqNJRYPx6KOV"
      },
      "source": [
        "## Test-Train Split"
      ]
    },
    {
      "cell_type": "code",
      "execution_count": null,
      "metadata": {
        "id": "mfGZA4Hz6KOV"
      },
      "outputs": [],
      "source": [
        "X_train, X_test, y_train, y_test = train_test_split(df, y, test_size=0.2, random_state=1)"
      ]
    },
    {
      "cell_type": "code",
      "execution_count": null,
      "metadata": {
        "id": "iJGu9bBq6KOV"
      },
      "outputs": [],
      "source": [
        "#Sequential model with Long Short-Term Memory layers.\n",
        "model = tf.keras.models.Sequential([\n",
        "tf.keras.layers.Embedding(10000,16,input_length=50),\n",
        "tf.keras.layers.Bidirectional(tf.keras.layers.LSTM(20, return_sequences=True)),\n",
        "tf.keras.layers.Bidirectional(tf.keras.layers.LSTM(20)),\n",
        "tf.keras.layers.Dense(4, activation='softmax')\n",
        "])\n",
        "model.compile(\n",
        "     loss='sparse_categorical_crossentropy',\n",
        "     optimizer='adam',\n",
        "     metrics=['accuracy']\n",
        ")"
      ]
    },
    {
      "cell_type": "markdown",
      "metadata": {
        "id": "_4bY5IUK6KOV"
      },
      "source": [
        "## Training"
      ]
    },
    {
      "cell_type": "code",
      "execution_count": null,
      "metadata": {
        "colab": {
          "base_uri": "https://localhost:8080/"
        },
        "id": "OWGOkoi86KOV",
        "outputId": "358eeef0-4cdb-4ec9-fcb6-08424723566b"
      },
      "outputs": [
        {
          "output_type": "stream",
          "name": "stdout",
          "text": [
            "Epoch 1/15\n",
            "185/185 [==============================] - 14s 46ms/step - loss: 1.3352 - accuracy: 0.3525 - val_loss: 1.2390 - val_accuracy: 0.4385\n",
            "Epoch 2/15\n",
            "185/185 [==============================] - 8s 41ms/step - loss: 1.0891 - accuracy: 0.5215 - val_loss: 1.1503 - val_accuracy: 0.5054\n",
            "Epoch 3/15\n",
            "185/185 [==============================] - 6s 31ms/step - loss: 0.7658 - accuracy: 0.6988 - val_loss: 1.1819 - val_accuracy: 0.5419\n",
            "Epoch 4/15\n",
            "185/185 [==============================] - 7s 36ms/step - loss: 0.5087 - accuracy: 0.8186 - val_loss: 1.2863 - val_accuracy: 0.5385\n",
            "Epoch 5/15\n",
            "185/185 [==============================] - 5s 29ms/step - loss: 0.3552 - accuracy: 0.8748 - val_loss: 1.3930 - val_accuracy: 0.5703\n",
            "Epoch 6/15\n",
            "185/185 [==============================] - 7s 35ms/step - loss: 0.2717 - accuracy: 0.9054 - val_loss: 1.5701 - val_accuracy: 0.5682\n",
            "Epoch 7/15\n",
            "185/185 [==============================] - 6s 30ms/step - loss: 0.2280 - accuracy: 0.9206 - val_loss: 1.5678 - val_accuracy: 0.5554\n",
            "Epoch 8/15\n",
            "185/185 [==============================] - 7s 38ms/step - loss: 0.1866 - accuracy: 0.9355 - val_loss: 1.6819 - val_accuracy: 0.5716\n",
            "Epoch 9/15\n",
            "185/185 [==============================] - 6s 30ms/step - loss: 0.1653 - accuracy: 0.9436 - val_loss: 1.7999 - val_accuracy: 0.5541\n",
            "Epoch 10/15\n",
            "185/185 [==============================] - 7s 38ms/step - loss: 0.1531 - accuracy: 0.9438 - val_loss: 1.7714 - val_accuracy: 0.5655\n",
            "Epoch 11/15\n",
            "185/185 [==============================] - 6s 30ms/step - loss: 0.1427 - accuracy: 0.9468 - val_loss: 1.7926 - val_accuracy: 0.5628\n",
            "Epoch 12/15\n",
            "185/185 [==============================] - 7s 38ms/step - loss: 0.1361 - accuracy: 0.9476 - val_loss: 1.9277 - val_accuracy: 0.5723\n",
            "Epoch 13/15\n",
            "185/185 [==============================] - 6s 30ms/step - loss: 0.1285 - accuracy: 0.9514 - val_loss: 1.9622 - val_accuracy: 0.5601\n",
            "Epoch 14/15\n",
            "185/185 [==============================] - 7s 38ms/step - loss: 0.1215 - accuracy: 0.9529 - val_loss: 1.9713 - val_accuracy: 0.5608\n",
            "Epoch 15/15\n",
            "185/185 [==============================] - 6s 31ms/step - loss: 0.1194 - accuracy: 0.9534 - val_loss: 1.9304 - val_accuracy: 0.5703\n"
          ]
        }
      ],
      "source": [
        "h = model.fit(\n",
        "     X_train, y_train,\n",
        "     validation_data=(X_test, y_test),\n",
        "     epochs=15,\n",
        "     callbacks=[tf.keras.callbacks.EarlyStopping(monitor='accuracy', patience=5)]\n",
        ")"
      ]
    },
    {
      "cell_type": "markdown",
      "metadata": {
        "id": "oRecFK4x6KOV"
      },
      "source": [
        "## Model Evaluation\n"
      ]
    },
    {
      "cell_type": "code",
      "execution_count": null,
      "metadata": {
        "colab": {
          "base_uri": "https://localhost:8080/"
        },
        "id": "mvYa4I-26KOV",
        "outputId": "c8dfc80c-029b-4ece-d3ff-a8e3a60c5444"
      },
      "outputs": [
        {
          "output_type": "stream",
          "name": "stdout",
          "text": [
            "47/47 [==============================] - 2s 9ms/step\n"
          ]
        }
      ],
      "source": [
        "#Generate predictions\n",
        "y_pred = np.argmax(model.predict(X_test), axis=1)\n",
        "\n",
        "#Assign labels to predictions and test data\n",
        "y_pred_labels = ids_to_names(y_pred)\n",
        "y_test_labels = ids_to_names(y_test)"
      ]
    },
    {
      "cell_type": "code",
      "execution_count": null,
      "metadata": {
        "colab": {
          "base_uri": "https://localhost:8080/",
          "height": 467
        },
        "id": "7_sra1ov6KOV",
        "outputId": "b2d34a00-b732-4d2e-8bf0-bc1aa5e21f9f"
      },
      "outputs": [
        {
          "output_type": "execute_result",
          "data": {
            "text/plain": [
              "<sklearn.metrics._plot.confusion_matrix.ConfusionMatrixDisplay at 0x7fbe0c639f00>"
            ]
          },
          "metadata": {},
          "execution_count": 33
        },
        {
          "output_type": "display_data",
          "data": {
            "text/plain": [
              "<Figure size 640x480 with 2 Axes>"
            ],
            "image/png": "[encoded data removed]"
          },
          "metadata": {}
        }
      ],
      "source": [
        "#overall measure of performance of a classification model by plotting a normalized confusion matrix\n",
        "#making a confusion matrix for evaluating the performance of a classification model.\n",
        "y_unique = list(set(y_test_labels))\n",
        "cm = confusion_matrix(y_test_labels, y_pred_labels, labels = y_unique, normalize='true')\n",
        "\n",
        "disp = ConfusionMatrixDisplay(confusion_matrix=cm, display_labels=y_unique)\n",
        "disp.plot()"
      ]
    },
    {
      "cell_type": "markdown",
      "metadata": {
        "id": "U_Evj0v96KOV"
      },
      "source": [
        "## Training with Full Dataset"
      ]
    },
    {
      "cell_type": "code",
      "execution_count": null,
      "metadata": {
        "id": "bMhabDR46KOZ"
      },
      "outputs": [],
      "source": [
        "#Use the full dataset!\n",
        "df = train_df"
      ]
    },
    {
      "cell_type": "markdown",
      "metadata": {
        "id": "6u2b_bGA6KOa"
      },
      "source": [
        "## Basic Data Enrichment"
      ]
    },
    {
      "cell_type": "code",
      "execution_count": null,
      "metadata": {
        "id": "XbjURWx_6KOa"
      },
      "outputs": [],
      "source": [
        "#Convert the \"Sentiment\" column into indexes\n",
        "\n",
        "##Train\n",
        "df[\"Sentiment\"] = names_to_ids(df[\"Sentiment\"])\n",
        "y = df[\"Sentiment\"]\n",
        "\n",
        "##Test\n",
        "test_df[\"Sentiment\"] = names_to_ids(test_df[\"Sentiment\"])\n",
        "y_test = test_df[\"Sentiment\"]"
      ]
    },
    {
      "cell_type": "markdown",
      "metadata": {
        "id": "ObziuNHc6KOa"
      },
      "source": [
        "## NLP Data Enrichment"
      ]
    },
    {
      "cell_type": "code",
      "execution_count": null,
      "metadata": {
        "id": "aVtTcERy6KOa"
      },
      "outputs": [],
      "source": [
        "#Removing stopwords and lemmatising\n",
        "\n",
        "##Train\n",
        "#Splits each string into a list of words\n",
        "df[\"Review_Content_Split\"] = df[\"Review_Content\"].apply(word_tokenize)\n",
        "\n",
        "#Applies the above function to each entry in the DataFrame\n",
        "lemmatiser = WordNetLemmatizer()\n",
        "stop_english = Counter(stopwords.words()) #Here we use a Counter dictionary on the cached\n",
        "                                          # list of stop words for a huge speed-up\n",
        "df[\"Review_Content_Split\"] = df[\"Review_Content_Split\"].apply(remove_stopwords)\n",
        "\n",
        "##Test\n",
        "test_df[\"Review_Content_Split\"] = test_df[\"Review_Content\"].apply(word_tokenize)\n",
        "\n",
        "test_df[\"Review_Content_Split\"] = test_df[\"Review_Content_Split\"].apply(remove_stopwords)"
      ]
    },
    {
      "cell_type": "code",
      "execution_count": null,
      "metadata": {
        "id": "dtnF5uHO6KOa"
      },
      "outputs": [],
      "source": [
        "#Tokenisation\n",
        "\n",
        "#Define the Tokeniser\n",
        "tokeniser = Tokenizer(num_words=10000, lower=True)\n",
        "\n",
        "#Create the corpus by finding the most common\n",
        "tokeniser.fit_on_texts(df[\"Review_Content_Split\"])\n",
        "\n",
        "##Train\n",
        "#Tokenise our column of edited Tweet content\n",
        "review_tokens = tokeniser.texts_to_sequences(list(df[\"Review_Content_Split\"]))\n",
        "review_tokens = pad_sequences(review_tokens, truncating = 'post', padding='post', maxlen=50)\n",
        "\n",
        "##Test\n",
        "#Tokenise our column of edited Tweet content\n",
        "review_tokens_test = tokeniser.texts_to_matrix(list(test_df[\"Review_Content_Split\"]))\n",
        "review_tokens_test = pad_sequences(review_tokens_test, truncating = 'post', padding='post', maxlen=50)"
      ]
    },
    {
      "cell_type": "code",
      "execution_count": null,
      "metadata": {
        "id": "dZ_-Kkd46KOa"
      },
      "outputs": [],
      "source": [
        "#Final prep\n",
        "\n",
        "##Train\n",
        "#Drop all non-useful columns\n",
        "full_df = pd.DataFrame(review_tokens)\n",
        "\n",
        "##Test\n",
        "full_test_df = pd.DataFrame(review_tokens_test)"
      ]
    },
    {
      "cell_type": "markdown",
      "metadata": {
        "id": "XBkrLHbH6KOa"
      },
      "source": [
        "## Model Definition and Training\n",
        "\n",
        "This time, we train with all of the available training data"
      ]
    },
    {
      "cell_type": "code",
      "execution_count": null,
      "metadata": {
        "id": "pWYlS7uD6KOa"
      },
      "outputs": [],
      "source": [
        "#Sequential model with stacked Bidirectional LSTM layers.\n",
        "model = tf.keras.models.Sequential([\n",
        "tf.keras.layers.Embedding(10000,16,input_length=50),\n",
        "tf.keras.layers.Bidirectional(tf.keras.layers.LSTM(20, return_sequences=True)),\n",
        "tf.keras.layers.Bidirectional(tf.keras.layers.LSTM(20)),\n",
        "tf.keras.layers.Dense(4, activation='softmax')\n",
        "])\n",
        "\n",
        "model.compile(\n",
        "     loss='sparse_categorical_crossentropy',\n",
        "     optimizer='adam',\n",
        "     metrics=['accuracy']\n",
        ")"
      ]
    },
    {
      "cell_type": "code",
      "execution_count": null,
      "metadata": {
        "colab": {
          "base_uri": "https://localhost:8080/"
        },
        "id": "QtkuepRo6KOa",
        "outputId": "4cd0ffd1-4aeb-482b-d938-cd655b51400f"
      },
      "outputs": [
        {
          "output_type": "stream",
          "name": "stdout",
          "text": [
            "Epoch 1/30\n",
            "2313/2313 [==============================] - 100s 41ms/step - loss: 0.8967 - accuracy: 0.6340 - val_loss: 1.4254 - val_accuracy: 0.2770\n",
            "Epoch 2/30\n",
            "2313/2313 [==============================] - 92s 40ms/step - loss: 0.5275 - accuracy: 0.8029 - val_loss: 1.3796 - val_accuracy: 0.3140\n",
            "Epoch 3/30\n",
            "2313/2313 [==============================] - 89s 38ms/step - loss: 0.4091 - accuracy: 0.8476 - val_loss: 1.3975 - val_accuracy: 0.2770\n",
            "Epoch 4/30\n",
            "2313/2313 [==============================] - 90s 39ms/step - loss: 0.3502 - accuracy: 0.8680 - val_loss: 1.3925 - val_accuracy: 0.2740\n",
            "Epoch 5/30\n",
            "2313/2313 [==============================] - 88s 38ms/step - loss: 0.3115 - accuracy: 0.8819 - val_loss: 1.4029 - val_accuracy: 0.2800\n",
            "Epoch 6/30\n",
            "2313/2313 [==============================] - 87s 38ms/step - loss: 0.2849 - accuracy: 0.8911 - val_loss: 1.3918 - val_accuracy: 0.2810\n",
            "Epoch 7/30\n",
            "2313/2313 [==============================] - 89s 39ms/step - loss: 0.2622 - accuracy: 0.8986 - val_loss: 1.3794 - val_accuracy: 0.2670\n",
            "Epoch 8/30\n",
            "2313/2313 [==============================] - 88s 38ms/step - loss: 0.2434 - accuracy: 0.9059 - val_loss: 1.3625 - val_accuracy: 0.3000\n",
            "Epoch 9/30\n",
            "2313/2313 [==============================] - 91s 39ms/step - loss: 0.2264 - accuracy: 0.9125 - val_loss: 1.3937 - val_accuracy: 0.2760\n",
            "Epoch 10/30\n",
            "2313/2313 [==============================] - 88s 38ms/step - loss: 0.2137 - accuracy: 0.9155 - val_loss: 1.3719 - val_accuracy: 0.2640\n",
            "Epoch 11/30\n",
            "2313/2313 [==============================] - 90s 39ms/step - loss: 0.1999 - accuracy: 0.9217 - val_loss: 1.4093 - val_accuracy: 0.2760\n",
            "Epoch 12/30\n",
            "2313/2313 [==============================] - 88s 38ms/step - loss: 0.1902 - accuracy: 0.9247 - val_loss: 1.3769 - val_accuracy: 0.2670\n",
            "Epoch 13/30\n",
            "2313/2313 [==============================] - 88s 38ms/step - loss: 0.1824 - accuracy: 0.9276 - val_loss: 1.4072 - val_accuracy: 0.2760\n",
            "Epoch 14/30\n",
            "2313/2313 [==============================] - 89s 38ms/step - loss: 0.1731 - accuracy: 0.9307 - val_loss: 1.3906 - val_accuracy: 0.2740\n",
            "Epoch 15/30\n",
            "2313/2313 [==============================] - 88s 38ms/step - loss: 0.1652 - accuracy: 0.9329 - val_loss: 1.3734 - val_accuracy: 0.2830\n",
            "Epoch 16/30\n",
            "2313/2313 [==============================] - 86s 37ms/step - loss: 0.1604 - accuracy: 0.9349 - val_loss: 1.3917 - val_accuracy: 0.2840\n",
            "Epoch 17/30\n",
            "2313/2313 [==============================] - 89s 38ms/step - loss: 0.1541 - accuracy: 0.9374 - val_loss: 1.3711 - val_accuracy: 0.2810\n",
            "Epoch 18/30\n",
            "2313/2313 [==============================] - 88s 38ms/step - loss: 0.1475 - accuracy: 0.9396 - val_loss: 1.3751 - val_accuracy: 0.2700\n",
            "Epoch 19/30\n",
            "2313/2313 [==============================] - 89s 39ms/step - loss: 0.1442 - accuracy: 0.9407 - val_loss: 1.3677 - val_accuracy: 0.3170\n",
            "Epoch 20/30\n",
            "2313/2313 [==============================] - 88s 38ms/step - loss: 0.1388 - accuracy: 0.9423 - val_loss: 1.3701 - val_accuracy: 0.3030\n",
            "Epoch 21/30\n",
            "2313/2313 [==============================] - 88s 38ms/step - loss: 0.1362 - accuracy: 0.9436 - val_loss: 1.3836 - val_accuracy: 0.2680\n",
            "Epoch 22/30\n",
            "2313/2313 [==============================] - 90s 39ms/step - loss: 0.1301 - accuracy: 0.9450 - val_loss: 1.3689 - val_accuracy: 0.3120\n",
            "Epoch 23/30\n",
            "2313/2313 [==============================] - 87s 38ms/step - loss: 0.1289 - accuracy: 0.9461 - val_loss: 1.3702 - val_accuracy: 0.2830\n",
            "Epoch 24/30\n",
            "2313/2313 [==============================] - 89s 38ms/step - loss: 0.1256 - accuracy: 0.9470 - val_loss: 1.3814 - val_accuracy: 0.3270\n",
            "Epoch 25/30\n",
            "2313/2313 [==============================] - 92s 40ms/step - loss: 0.1226 - accuracy: 0.9483 - val_loss: 1.3780 - val_accuracy: 0.3190\n",
            "Epoch 26/30\n",
            "2313/2313 [==============================] - 87s 38ms/step - loss: 0.1194 - accuracy: 0.9492 - val_loss: 1.3816 - val_accuracy: 0.2590\n",
            "Epoch 27/30\n",
            "2313/2313 [==============================] - 88s 38ms/step - loss: 0.1188 - accuracy: 0.9501 - val_loss: 1.3714 - val_accuracy: 0.3070\n",
            "Epoch 28/30\n",
            "2313/2313 [==============================] - 87s 37ms/step - loss: 0.1152 - accuracy: 0.9507 - val_loss: 1.3858 - val_accuracy: 0.2800\n",
            "Epoch 29/30\n",
            "2313/2313 [==============================] - 90s 39ms/step - loss: 0.1132 - accuracy: 0.9517 - val_loss: 1.3909 - val_accuracy: 0.2880\n",
            "Epoch 30/30\n",
            "2313/2313 [==============================] - 88s 38ms/step - loss: 0.1121 - accuracy: 0.9515 - val_loss: 1.3745 - val_accuracy: 0.2850\n"
          ]
        }
      ],
      "source": [
        "#Train model on data with validation.\n",
        "h = model.fit(\n",
        "     full_df, y,\n",
        "     validation_data=(full_test_df, y_test),\n",
        "     epochs=30,\n",
        "     callbacks=[tf.keras.callbacks.EarlyStopping(monitor='accuracy', patience=5)]\n",
        ")"
      ]
    },
    {
      "cell_type": "markdown",
      "metadata": {
        "id": "oWuOtuhJ6KOa"
      },
      "source": [
        "## Final Model Evaluation"
      ]
    },
    {
      "cell_type": "code",
      "execution_count": null,
      "metadata": {
        "colab": {
          "base_uri": "https://localhost:8080/"
        },
        "id": "Ylp00PMb6KOa",
        "outputId": "45c2f263-b898-4257-da7e-b56d92121e3f"
      },
      "outputs": [
        {
          "output_type": "stream",
          "name": "stdout",
          "text": [
            "32/32 [==============================] - 1s 9ms/step\n"
          ]
        }
      ],
      "source": [
        "#Generate predictions\n",
        "y_pred = np.argmax(model.predict(full_test_df), axis=1)\n",
        "\n",
        "#Assign labels to predictions and test data\n",
        "y_pred_labels = ids_to_names(y_pred)\n",
        "y_test_labels = ids_to_names(y_test)"
      ]
    },
    {
      "cell_type": "code",
      "execution_count": null,
      "metadata": {
        "colab": {
          "base_uri": "https://localhost:8080/",
          "height": 467
        },
        "id": "fsGVwVHu6KOa",
        "outputId": "6c3133b7-f9de-4ce9-a939-dd8ee6722d99"
      },
      "outputs": [
        {
          "output_type": "execute_result",
          "data": {
            "text/plain": [
              "<sklearn.metrics._plot.confusion_matrix.ConfusionMatrixDisplay at 0x7fbdf2057d90>"
            ]
          },
          "metadata": {},
          "execution_count": 42
        },
        {
          "output_type": "display_data",
          "data": {
            "text/plain": [
              "<Figure size 640x480 with 2 Axes>"
            ],
            "image/png": "[encoded data removed]"
          },
          "metadata": {}
        }
      ],
      "source": [
        "y_unique = list(set(y_test_labels))\n",
        "cm = confusion_matrix(y_test_labels, y_pred_labels, labels = y_unique, normalize='true')\n",
        "\n",
        "disp = ConfusionMatrixDisplay(confusion_matrix=cm, display_labels=y_unique)\n",
        "disp.plot()"
      ]
    },
    {
      "cell_type": "code",
      "execution_count": null,
      "metadata": {
        "colab": {
          "base_uri": "https://localhost:8080/"
        },
        "id": "fCrXm21N6KOa",
        "outputId": "65374038-6031-4132-b454-29220ea4be4c"
      },
      "outputs": [
        {
          "output_type": "execute_result",
          "data": {
            "text/plain": [
              "0.285"
            ]
          },
          "metadata": {},
          "execution_count": 43
        }
      ],
      "source": [
        "#To see the final accuracy\n",
        "accuracy_score(y_test, y_pred)"
      ]
    }
  ],
  "metadata": {
    "kernelspec": {
      "display_name": "Python 3.9.13 64-bit",
      "language": "python",
      "name": "python3"
    },
    "language_info": {
      "codemirror_mode": {
        "name": "ipython",
        "version": 3
      },
      "file_extension": ".py",
      "mimetype": "text/x-python",
      "name": "python",
      "nbconvert_exporter": "python",
      "pygments_lexer": "ipython3",
      "version": "3.9.13"
    },
    "orig_nbformat": 4,
    "vscode": {
      "interpreter": {
        "hash": "11938c6bc6919ae2720b4d5011047913343b08a43b18698fd82dedb0d4417594"
      }
    },
    "colab": {
      "provenance": []
    }
  },
  "nbformat": 4,
  "nbformat_minor": 0
}